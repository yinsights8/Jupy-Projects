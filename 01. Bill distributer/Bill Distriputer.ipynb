{
 "cells": [
  {
   "cell_type": "code",
   "execution_count": 8,
   "id": "0390f728",
   "metadata": {},
   "outputs": [
    {
     "name": "stdout",
     "output_type": "stream",
     "text": [
      "Welcom to the bill distributor\n",
      "Enter your bill: Rs45\n",
      "Enter the number of people: 4\n",
      "Each people should pay 11 Rs.\n"
     ]
    }
   ],
   "source": [
    "# Bill Distributor\n",
    "print(\"Welcom to the bill distributor\")\n",
    "\n",
    "bill = int(input(\"Enter your bill: Rs\"))\n",
    "candidates = int(input(\"Enter the number of people: \"))\n",
    "\n",
    "total_bill = round(bill / candidates)\n",
    "\n",
    "print(f\"Each people should pay {total_bill} Rs.\")\n",
    "\n"
   ]
  },
  {
   "cell_type": "code",
   "execution_count": null,
   "id": "8c664559",
   "metadata": {},
   "outputs": [],
   "source": []
  },
  {
   "cell_type": "code",
   "execution_count": null,
   "id": "bf0e41f1",
   "metadata": {},
   "outputs": [],
   "source": []
  }
 ],
 "metadata": {
  "kernelspec": {
   "display_name": "Python 3 (ipykernel)",
   "language": "python",
   "name": "python3"
  },
  "language_info": {
   "codemirror_mode": {
    "name": "ipython",
    "version": 3
   },
   "file_extension": ".py",
   "mimetype": "text/x-python",
   "name": "python",
   "nbconvert_exporter": "python",
   "pygments_lexer": "ipython3",
   "version": "3.9.12"
  }
 },
 "nbformat": 4,
 "nbformat_minor": 5
}
