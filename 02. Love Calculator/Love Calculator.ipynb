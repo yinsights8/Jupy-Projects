{
 "cells": [
  {
   "cell_type": "code",
   "execution_count": 3,
   "id": "63d26cd0",
   "metadata": {},
   "outputs": [
    {
     "name": "stdout",
     "output_type": "stream",
     "text": [
      "Welcome to the love calculator\n",
      "\n",
      ".....Test your TRUE LOVE.....\n",
      "\n",
      "Enter your Name: shreya\n",
      "Enter Her/His Name: yas\n",
      "Your score is 21 %.\n"
     ]
    }
   ],
   "source": [
    "print(\"Welcome to the love calculator\\n\")\n",
    "print(\".....Test your TRUE LOVE.....\\n\")\n",
    "\n",
    "name1 = input(\"Enter your Name: \")\n",
    "name2 = input(\"Enter Her/His Name: \")\n",
    "\n",
    "combine_name = name1 + name2\n",
    "lower_case_name = combine_name.lower()\n",
    "\n",
    "t = lower_case_name.count('t')\n",
    "r = lower_case_name.count('r')\n",
    "u = lower_case_name.count('u')\n",
    "e = lower_case_name.count('e')\n",
    "\n",
    "true = t+r+u+e\n",
    "\n",
    "l = lower_case_name.count('l')\n",
    "o = lower_case_name.count('o')\n",
    "v = lower_case_name.count('v')\n",
    "e = lower_case_name.count('e')\n",
    "\n",
    "love = l+o+v+e\n",
    "\n",
    "\n",
    "TrueLove = int(str(true) + str(love))\n",
    "\n",
    "if TrueLove < 10 or TrueLove > 90:\n",
    "    print(f\"Your score is {TrueLove} %, you go together like coke and mentos.\")\n",
    "elif TrueLove > 40 and TrueLove < 50:\n",
    "    print(f\"Your score is {TrueLove} %, you are alright together.\")\n",
    "else:\n",
    "    print(f\"Your score is {TrueLove} %.\")"
   ]
  },
  {
   "cell_type": "code",
   "execution_count": null,
   "id": "65a705c7",
   "metadata": {},
   "outputs": [],
   "source": []
  }
 ],
 "metadata": {
  "kernelspec": {
   "display_name": "Python 3 (ipykernel)",
   "language": "python",
   "name": "python3"
  },
  "language_info": {
   "codemirror_mode": {
    "name": "ipython",
    "version": 3
   },
   "file_extension": ".py",
   "mimetype": "text/x-python",
   "name": "python",
   "nbconvert_exporter": "python",
   "pygments_lexer": "ipython3",
   "version": "3.9.12"
  }
 },
 "nbformat": 4,
 "nbformat_minor": 5
}
