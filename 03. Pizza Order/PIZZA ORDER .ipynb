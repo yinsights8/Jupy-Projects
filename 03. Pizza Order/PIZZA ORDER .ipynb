{
 "cells": [
  {
   "cell_type": "code",
   "execution_count": 25,
   "id": "72157d00",
   "metadata": {},
   "outputs": [
    {
     "name": "stdout",
     "output_type": "stream",
     "text": [
      "Welcome to Python Pizza Deliveries!\n",
      "\n",
      "Small Pizza: $15\n",
      "Medium Pizza: $20\n",
      "Large Pizza: $25\n",
      "Pepperoni for Small Pizza: +$2\n",
      "Pepperoni for Medium or Large Pizza: +$3\n",
      "Extra cheese for any size pizza: + $1\n",
      "\n",
      "What size pizza do you want? S, M, or L S :  s\n",
      "Do you want pepperoni? Y or N: n\n",
      "Do you want extra cheese? Y or N: y\n",
      "Your Total bill is : $16\n"
     ]
    }
   ],
   "source": [
    "# Pizza Order bill\n",
    "print(\"Welcome to Python Pizza Deliveries!\\n\")\n",
    "print(\"Small Pizza: $15\")\n",
    "print(\"Medium Pizza: $20\")\n",
    "print(\"Large Pizza: $25\")\n",
    "print(\"Pepperoni for Small Pizza: +$2\")\n",
    "print(\"Pepperoni for Medium or Large Pizza: +$3\")\n",
    "print(\"Extra cheese for any size pizza: + $1\\n\")\n",
    "\n",
    "size = input(\"What size pizza do you want? S, M, or L S :  \").lower()\n",
    "pepperoni = input(\"Do you want pepperoni? Y or N: \").lower()\n",
    "extra_cheese = input(\"Do you want extra cheese? Y or N: \").lower() \n",
    "\n",
    "\n",
    "\n",
    "\n",
    "bill = 0\n",
    "\n",
    "if size == 's':\n",
    "    bill += 15\n",
    "    #print(f\"Pizza Small size ${bill}\")\n",
    "    \n",
    "elif size == 'm':\n",
    "    bill += 20\n",
    "   # print(f\"Pizza Small size ${bill}\")\n",
    "    \n",
    "else:\n",
    "    bill += 25\n",
    "   # print(f\"Pizza Small size ${bill}\")\n",
    "    \n",
    "    \n",
    "    \n",
    "if size == 's':\n",
    "    if pepperoni == 'y':\n",
    "        bill += 2\n",
    "   # print(f\"Your Total bill is : ${bill}\")\n",
    "          \n",
    "else:\n",
    "    if pepperoni == 'y':\n",
    "        bill += 3\n",
    "   # print(f\"Your Total bill is : ${bill}\")\n",
    "    \n",
    "    \n",
    "if extra_cheese == 'y':\n",
    "    bill += 1\n",
    "print(f\"Your Total bill is : ${bill}\")"
   ]
  }
 ],
 "metadata": {
  "kernelspec": {
   "display_name": "Python 3.9.12 ('base')",
   "language": "python",
   "name": "python3"
  },
  "language_info": {
   "codemirror_mode": {
    "name": "ipython",
    "version": 3
   },
   "file_extension": ".py",
   "mimetype": "text/x-python",
   "name": "python",
   "nbconvert_exporter": "python",
   "pygments_lexer": "ipython3",
   "version": "3.9.12"
  },
  "vscode": {
   "interpreter": {
    "hash": "2cd1a951032f7352ae3168ddd8bf9e6a804496d0e856e8ba8d93099e51bff633"
   }
  }
 },
 "nbformat": 4,
 "nbformat_minor": 5
}
