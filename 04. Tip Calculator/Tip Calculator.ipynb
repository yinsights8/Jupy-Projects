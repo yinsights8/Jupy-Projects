{
 "cells": [
  {
   "cell_type": "code",
   "execution_count": 2,
   "id": "1dd4ec80",
   "metadata": {},
   "outputs": [
    {
     "name": "stdout",
     "output_type": "stream",
     "text": [
      "Welcome to Tip Calculator\n",
      "What was your bill: $150\n",
      "How much tip you would like to give 10, 12 or 15 ? :  10\n",
      "How many people is there to split the bill: 5\n",
      "Each person should pay: 33.0\n"
     ]
    }
   ],
   "source": [
    "# Tip Calculator\n",
    "print(\"Welcome to Tip Calculator\")\n",
    "\n",
    "bill = float(input(\"What was your bill: $\"))\n",
    "tip = int(input(\"How much tip you would like to give 10, 12 or 15 ? :  \"))\n",
    "people = int(input(\"How many people is there to split the bill: \"))\n",
    "\n",
    "tip_percentage = tip/100\n",
    "tip_amount = bill * tip_percentage\n",
    "total_bill = tip_amount + bill\n",
    "\n",
    "bill_per_person = total_bill/people\n",
    "\n",
    "final_bill = round(bill_per_person,2)\n",
    "\n",
    "print(f\"Each person should pay: {final_bill}\")"
   ]
  }
 ],
 "metadata": {
  "kernelspec": {
   "display_name": "Python 3.9.12 ('base')",
   "language": "python",
   "name": "python3"
  },
  "language_info": {
   "codemirror_mode": {
    "name": "ipython",
    "version": 3
   },
   "file_extension": ".py",
   "mimetype": "text/x-python",
   "name": "python",
   "nbconvert_exporter": "python",
   "pygments_lexer": "ipython3",
   "version": "3.9.12"
  },
  "vscode": {
   "interpreter": {
    "hash": "2cd1a951032f7352ae3168ddd8bf9e6a804496d0e856e8ba8d93099e51bff633"
   }
  }
 },
 "nbformat": 4,
 "nbformat_minor": 5
}
