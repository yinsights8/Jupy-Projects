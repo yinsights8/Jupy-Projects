{
 "cells": [
  {
   "cell_type": "code",
   "execution_count": 23,
   "id": "81c834b0",
   "metadata": {},
   "outputs": [
    {
     "name": "stdout",
     "output_type": "stream",
     "text": [
      "Welcom to Locate treasure\n",
      "Where do you want to locate your treasure: 33\n",
      "['😁', '😁', '😁']\n",
      ",['😁', '😁', '😁']\n",
      ",['😁', '😁', 'X']\n"
     ]
    }
   ],
   "source": [
    "# Hide your treasure\n",
    "print(\"Welcom to Locate treasure\")\n",
    "\n",
    "row1 = [\"😁\", \"😁\", \"😁\"]\n",
    "row2 = [\"😁\", \"😁\", \"😁\"]\n",
    "row3 = [\"😁\", \"😁\", \"😁\"]\n",
    "\n",
    "map = [row1,row2,row3]\n",
    "\n",
    "position = input(\"Where do you want to locate your treasure: \")\n",
    "\n",
    "horizontal = int(position[0]) # 2\n",
    "vertical = int(position[1]) # 3\n",
    "\n",
    "# vertical - 1 because index are 0,1,2 row = [0,1,2]\n",
    "selected_row = map[vertical -1]\n",
    "selected_row[horizontal-1] = 'X'\n",
    "\n",
    "print(f\"{row1}\\n,{row2}\\n,{row3}\")"
   ]
  }
 ],
 "metadata": {
  "kernelspec": {
   "display_name": "Python 3.9.12 ('base')",
   "language": "python",
   "name": "python3"
  },
  "language_info": {
   "codemirror_mode": {
    "name": "ipython",
    "version": 3
   },
   "file_extension": ".py",
   "mimetype": "text/x-python",
   "name": "python",
   "nbconvert_exporter": "python",
   "pygments_lexer": "ipython3",
   "version": "3.9.12"
  },
  "vscode": {
   "interpreter": {
    "hash": "2cd1a951032f7352ae3168ddd8bf9e6a804496d0e856e8ba8d93099e51bff633"
   }
  }
 },
 "nbformat": 4,
 "nbformat_minor": 5
}
