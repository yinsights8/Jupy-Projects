{
 "cells": [
  {
   "cell_type": "code",
   "execution_count": 1,
   "id": "243a669e",
   "metadata": {},
   "outputs": [
    {
     "name": "stdout",
     "output_type": "stream",
     "text": [
      ".........Who will pay the BILL.........\n",
      "\n",
      "0\n",
      " will pay our bill 😄\n"
     ]
    }
   ],
   "source": [
    "import random\n",
    "\n",
    "print(\".........Who will pay the BILL.........\\n\")\n",
    "\n",
    "name_string = input(\"Give me everybody's names, separated by a comma.: \")\n",
    "\n",
    "names = name_string.split(\",\")\n",
    "\n",
    "#random.shuffle(names)\n",
    "\n",
    "#person_pay = random.choice(names)\n",
    "\n",
    "total_people = len(names)\n",
    "\n",
    "random_person = random.randint(0, total_people - 1)\n",
    "\n",
    "person_pay  = names[random_person]\n",
    "\n",
    "print(random_person)\n",
    "print(f\"{person_pay} will pay our bill 😄\")"
   ]
  }
 ],
 "metadata": {
  "kernelspec": {
   "display_name": "Python 3.9.12 ('base')",
   "language": "python",
   "name": "python3"
  },
  "language_info": {
   "codemirror_mode": {
    "name": "ipython",
    "version": 3
   },
   "file_extension": ".py",
   "mimetype": "text/x-python",
   "name": "python",
   "nbconvert_exporter": "python",
   "pygments_lexer": "ipython3",
   "version": "3.9.12"
  },
  "vscode": {
   "interpreter": {
    "hash": "2cd1a951032f7352ae3168ddd8bf9e6a804496d0e856e8ba8d93099e51bff633"
   }
  }
 },
 "nbformat": 4,
 "nbformat_minor": 5
}
