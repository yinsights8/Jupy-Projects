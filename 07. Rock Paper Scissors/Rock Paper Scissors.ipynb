{
 "cells": [
  {
   "cell_type": "code",
   "execution_count": 3,
   "id": "79a6acfc",
   "metadata": {},
   "outputs": [],
   "source": [
    "import random\n",
    "\n",
    "stages = rock = '''\n",
    "    _______\n",
    "---'   ____)\n",
    "      (_____)\n",
    "      (_____)\n",
    "      (____)\n",
    "---.__(___)\n",
    "'''\n",
    "\n",
    "paper = '''\n",
    "    _______\n",
    "---'   ____)____\n",
    "          ______)\n",
    "          _______)\n",
    "         _______)\n",
    "---.__________)\n",
    "'''\n",
    "\n",
    "scissors = '''\n",
    "    _______\n",
    "---'   ____)____\n",
    "          ______)\n",
    "       __________)\n",
    "      (____)\n",
    "---.__(___)\n",
    "'''\n",
    "\n"
   ]
  },
  {
   "cell_type": "code",
   "execution_count": 46,
   "id": "7e98a8d2",
   "metadata": {},
   "outputs": [
    {
     "name": "stdout",
     "output_type": "stream",
     "text": [
      "Welcome to the ROCK PAPER SCISSOR'S\n",
      "What do you choose? Type 0 for Rock, 1 for Paper or 2 for Scissors.\n",
      "1\n",
      "You: \n",
      " \n",
      "    _______\n",
      "---'   ____)____\n",
      "          ______)\n",
      "          _______)\n",
      "         _______)\n",
      "---.__________)\n",
      "\n",
      "computer Chose: \n",
      " \n",
      "    _______\n",
      "---'   ____)____\n",
      "          ______)\n",
      "       __________)\n",
      "      (____)\n",
      "---.__(___)\n",
      "\n",
      "You Lose!\n"
     ]
    }
   ],
   "source": [
    "\n",
    "print(\"Welcome to the ROCK PAPER SCISSOR'S\")\n",
    "\n",
    "game_images = [rock, paper, scissors]\n",
    "\n",
    "user_choice = []\n",
    "\n",
    "while user_choice not in [0,1,2]:\n",
    "    \n",
    "    user_choice = int(input(\"What do you choose? Type 0 for Rock, 1 for Paper or 2 for Scissors.\\n\"))\n",
    "    print(\"You: \\n\",game_images[user_choice])\n",
    "\n",
    "    computer_choice = random.randint(0,2)\n",
    "    print(\"computer Chose: \\n\",game_images[computer_choice])\n",
    "\n",
    "if user_choice > computer_choice:\n",
    "    print(\"You Win!\")\n",
    "    \n",
    "elif computer_choice > user_choice:\n",
    "    print(\"You Lose!\")\n",
    "    \n",
    "elif user_choice == 1 and computer_choice == 2:\n",
    "    print(\"You Win!\")\n",
    "elif user_choice == 2 and computer_choice == 1:\n",
    "    print(\"You Lose!\")\n",
    "    \n",
    "elif user_choice == computer_choice:\n",
    "    print(\"Game Tie\")"
   ]
  },
  {
   "cell_type": "code",
   "execution_count": null,
   "id": "4d684d8d",
   "metadata": {},
   "outputs": [],
   "source": []
  },
  {
   "cell_type": "code",
   "execution_count": null,
   "id": "b7a6f569",
   "metadata": {},
   "outputs": [],
   "source": []
  },
  {
   "cell_type": "code",
   "execution_count": null,
   "id": "78ef55e9",
   "metadata": {},
   "outputs": [],
   "source": []
  }
 ],
 "metadata": {
  "kernelspec": {
   "display_name": "Python 3.9.12 ('base')",
   "language": "python",
   "name": "python3"
  },
  "language_info": {
   "codemirror_mode": {
    "name": "ipython",
    "version": 3
   },
   "file_extension": ".py",
   "mimetype": "text/x-python",
   "name": "python",
   "nbconvert_exporter": "python",
   "pygments_lexer": "ipython3",
   "version": "3.9.12"
  },
  "vscode": {
   "interpreter": {
    "hash": "2cd1a951032f7352ae3168ddd8bf9e6a804496d0e856e8ba8d93099e51bff633"
   }
  }
 },
 "nbformat": 4,
 "nbformat_minor": 5
}
