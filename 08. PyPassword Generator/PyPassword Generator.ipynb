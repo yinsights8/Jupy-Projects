{
 "cells": [
  {
   "cell_type": "code",
   "execution_count": 1,
   "id": "fbec4f25",
   "metadata": {},
   "outputs": [
    {
     "name": "stdout",
     "output_type": "stream",
     "text": [
      "Welcome to the PyPassword generator\n",
      "How many letters would you lie in your password\n",
      "4\n",
      "How many numbers would you like to include in your password\n",
      "2\n",
      "How many symbols would you like to include in your password\n",
      "3\n",
      "Your password is : 14+l(WlZ*\n"
     ]
    }
   ],
   "source": [
    "# PyPassword Generator\n",
    "import random\n",
    "letters = ['a', 'b', 'c', 'd', 'e', 'f', 'g', 'h', 'i', 'j', 'k', 'l', 'm', 'n', 'o', 'p', 'q', 'r', 's', 't', 'u', 'v', 'w', 'x', 'y', 'z', 'A', 'B', 'C', 'D', 'E', 'F', 'G', 'H', 'I', 'J', 'K', 'L', 'M', 'N', 'O', 'P', 'Q', 'R', 'S', 'T', 'U', 'V', 'W', 'X', 'Y', 'Z']\n",
    "numbers = ['0', '1', '2', '3', '4', '5', '6', '7', '8', '9']\n",
    "symbols = ['!', '#', '$', '%', '&', '(', ')', '*', '+']\n",
    "\n",
    "\n",
    "print(\"Welcome to the PyPassword generator\")\n",
    "nr_letter = int(input(\"How many letters would you lie in your password\\n\"))\n",
    "nr_number = int(input(\"How many numbers would you like to include in your password\\n\"))\n",
    "nr_symbol = int(input(\"How many symbols would you like to include in your password\\n\"))\n",
    "\n",
    "\n",
    "\n",
    "password_list = []\n",
    "\n",
    "for letter in range(1, nr_letter + 1 ):\n",
    "    password_list += random.choice(letters)\n",
    "    #print(password)\n",
    "    \n",
    "for numb in range(1, nr_number + 1 ):\n",
    "    password_list += random.choice(numbers)\n",
    "    #print(password)\n",
    "    \n",
    "for symb in range(1, nr_symbol + 1):\n",
    "    password_list += random.choice(symbols)\n",
    "\n",
    "random.shuffle(password_list)\n",
    "\n",
    "password = \"\"\n",
    "for char in password_list:\n",
    "    password += char\n",
    "print(f\"Your password is : {password}\")"
   ]
  },
  {
   "cell_type": "code",
   "execution_count": null,
   "id": "efa69186",
   "metadata": {},
   "outputs": [],
   "source": []
  },
  {
   "cell_type": "code",
   "execution_count": null,
   "id": "d2dd01e1",
   "metadata": {},
   "outputs": [],
   "source": []
  },
  {
   "cell_type": "code",
   "execution_count": null,
   "id": "364e9794",
   "metadata": {},
   "outputs": [],
   "source": []
  }
 ],
 "metadata": {
  "kernelspec": {
   "display_name": "Python 3 (ipykernel)",
   "language": "python",
   "name": "python3"
  },
  "language_info": {
   "codemirror_mode": {
    "name": "ipython",
    "version": 3
   },
   "file_extension": ".py",
   "mimetype": "text/x-python",
   "name": "python",
   "nbconvert_exporter": "python",
   "pygments_lexer": "ipython3",
   "version": "3.9.12"
  }
 },
 "nbformat": 4,
 "nbformat_minor": 5
}
