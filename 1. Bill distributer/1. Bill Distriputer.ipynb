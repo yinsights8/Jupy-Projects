{
 "cells": [
  {
   "cell_type": "code",
   "execution_count": 8,
   "id": "0390f728",
   "metadata": {},
   "outputs": [
    {
     "name": "stdout",
     "output_type": "stream",
     "text": [
      "Welcom to the bill distributor\n",
      "Enter your bill: Rs45\n",
      "Enter the number of people: 4\n",
      "Each people should pay 11 Rs.\n"
     ]
    }
   ],
   "source": [
    "print(\"Welcom to the bill distributor\")\n",
    "\n",
    "bill = int(input(\"Enter your bill: Rs\"))\n",
    "candidates = int(input(\"Enter the number of people: \"))\n",
    "\n",
    "total_bill = round(bill / candidates)\n",
    "\n",
    "print(f\"Each people should pay {total_bill} Rs.\")\n",
    "\n"
   ]
  },
  {
   "cell_type": "code",
   "execution_count": null,
   "id": "8c664559",
   "metadata": {},
   "outputs": [],
   "source": []
  },
  {
   "cell_type": "code",
   "execution_count": 18,
   "id": "562a51cd",
   "metadata": {},
   "outputs": [
    {
     "name": "stdout",
     "output_type": "stream",
     "text": [
      "Welcome to the Love Calculator\n",
      "Enter your name: Angela YU\n",
      "Enter your His/ Her name: Jack Bauer\n",
      "Your score is 53 %\n"
     ]
    }
   ],
   "source": [
    "print(\"Welcome to the Love Calculator\")\n",
    "\n",
    "name1 = input(\"Enter your name: \")\n",
    "\n",
    "name2 = input(\"Enter your His/ Her name: \")\n",
    "\n",
    "combine_name = (name1 + name2)\n",
    "lower_case_name = combine_name.lower()\n",
    "\n",
    "t = lower_case_name.count('t')\n",
    "r = lower_case_name.count('r')\n",
    "u = lower_case_name.count('u')\n",
    "e = lower_case_name.count('e')\n",
    "\n",
    "true = t+r+u+e\n",
    "\n",
    "l = lower_case_name.count('l')\n",
    "o = lower_case_name.count('o')\n",
    "v = lower_case_name.count('v')\n",
    "e = lower_case_name.count('e')\n",
    "\n",
    "love = l+o+v+e\n",
    "\n",
    "score = str(true) + str(love)\n",
    "\n",
    "print(f\"Your score is {score} %\")"
   ]
  },
  {
   "cell_type": "code",
   "execution_count": 19,
   "id": "38717433",
   "metadata": {},
   "outputs": [
    {
     "data": {
      "text/plain": [
       "int"
      ]
     },
     "execution_count": 19,
     "metadata": {},
     "output_type": "execute_result"
    }
   ],
   "source": [
    "type(love) and type(true)"
   ]
  },
  {
   "cell_type": "code",
   "execution_count": null,
   "id": "bf0e41f1",
   "metadata": {},
   "outputs": [],
   "source": []
  }
 ],
 "metadata": {
  "kernelspec": {
   "display_name": "Python 3 (ipykernel)",
   "language": "python",
   "name": "python3"
  },
  "language_info": {
   "codemirror_mode": {
    "name": "ipython",
    "version": 3
   },
   "file_extension": ".py",
   "mimetype": "text/x-python",
   "name": "python",
   "nbconvert_exporter": "python",
   "pygments_lexer": "ipython3",
   "version": "3.9.12"
  }
 },
 "nbformat": 4,
 "nbformat_minor": 5
}
