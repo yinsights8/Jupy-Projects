{
 "cells": [
  {
   "cell_type": "code",
   "execution_count": 19,
   "id": "9c3d2f40",
   "metadata": {},
   "outputs": [],
   "source": [
    "# Another version of Blackjack game\n",
    "import random\n",
    "\n",
    "suits = ('Hearts', 'Diamonds', 'Spades', 'Clubs')\n",
    "ranks = ('Two', 'Three', 'Four', 'Five', 'Six', 'Seven', 'Eight', 'Nine', 'Ten', 'Jack', 'Queen', 'King', 'Ace')\n",
    "values = {'Two':2, 'Three':3, 'Four':4, 'Five':5, 'Six':6, 'Seven':7, 'Eight':8, 'Nine':9, 'Ten':10, 'Jack':10,\n",
    "         'Queen':10, 'King':10, 'Ace':11}\n",
    "\n",
    "playing = True # To control while loop"
   ]
  },
  {
   "cell_type": "code",
   "execution_count": 20,
   "id": "14ac015c",
   "metadata": {},
   "outputs": [],
   "source": [
    "class Card:\n",
    "    \n",
    "    def __init__(self,suit,rank):\n",
    "        \n",
    "        self.suit = suit\n",
    "        self.rank = rank\n",
    "        self.value = values[rank]\n",
    "        \n",
    "    def __str__(self):\n",
    "        \n",
    "        return self.rank + ' of ' + self.suit"
   ]
  },
  {
   "cell_type": "code",
   "execution_count": 21,
   "id": "26aa1f25",
   "metadata": {},
   "outputs": [],
   "source": [
    "test_card = Card('Hearts','Two')"
   ]
  },
  {
   "cell_type": "code",
   "execution_count": 22,
   "id": "99474583",
   "metadata": {},
   "outputs": [
    {
     "data": {
      "text/plain": [
       "'Two'"
      ]
     },
     "execution_count": 22,
     "metadata": {},
     "output_type": "execute_result"
    }
   ],
   "source": [
    "test_card.rank"
   ]
  },
  {
   "cell_type": "code",
   "execution_count": 23,
   "id": "0a3abb7f",
   "metadata": {},
   "outputs": [
    {
     "name": "stdout",
     "output_type": "stream",
     "text": [
      "Two of Hearts\n"
     ]
    }
   ],
   "source": [
    "print(test_card)"
   ]
  },
  {
   "cell_type": "code",
   "execution_count": 24,
   "id": "fee70272",
   "metadata": {},
   "outputs": [],
   "source": [
    "class Deck():\n",
    "    \n",
    "    def __init__(self):\n",
    "        \n",
    "        self.deck = []\n",
    "        \n",
    "        for suit in suits:\n",
    "            for rank in ranks:\n",
    "                self.deck.append(Card(suit,rank))\n",
    "    \n",
    "    def __str__(self):\n",
    "        deck_comp = ''\n",
    "        for card in self.deck:\n",
    "            deck_comp += \"\\n\"+ card.__str__()\n",
    "        return \"Deck Has: \" + deck_comp\n",
    "            \n",
    "    def shuffle(self):\n",
    "        random.shuffle(self.deck)\n",
    "    \n",
    "    def deal(self):\n",
    "        single_card = self.deck.pop()\n",
    "        return single_card"
   ]
  },
  {
   "cell_type": "code",
   "execution_count": 25,
   "id": "039d5680",
   "metadata": {},
   "outputs": [],
   "source": [
    "test_deck = Deck()\n",
    "test_deck.shuffle()"
   ]
  },
  {
   "cell_type": "code",
   "execution_count": 26,
   "id": "f0222c2d",
   "metadata": {},
   "outputs": [],
   "source": [
    "# print(test_deck)"
   ]
  },
  {
   "cell_type": "code",
   "execution_count": 27,
   "id": "dc84141b",
   "metadata": {},
   "outputs": [],
   "source": [
    "class Hand():\n",
    "    \n",
    "    def __init__(self):\n",
    "        \n",
    "        self.cards = [] # start with an empty list\n",
    "        self.value = 0 # it will calculate the sum of rank of the values\n",
    "        self.aces = 0 # it will keep tracking the nuber of aces\n",
    "        \n",
    "    def add_card(self,card):\n",
    "        \n",
    "        self.cards.append(card)\n",
    "        self.value += values[card.rank]\n",
    "        \n",
    "        # keep track of the aces\n",
    "        if card.rank == \"Ace\":  #################errror##################    self.rank--> Wrong\n",
    "            self.aces += 1\n",
    "            \n",
    "    def adjust_for_ace(self):\n",
    "        \n",
    "        # if the TOTAL VALUE of the card is Exced 21 and the the number of aces is acts as an 11 or 1\n",
    "        # in that case we will use adjust_for_aces\n",
    "        while self.value > 21 and self.aces > 0:\n",
    "            self.value -= 10\n",
    "            self.value -= 1"
   ]
  },
  {
   "cell_type": "code",
   "execution_count": 28,
   "id": "e0332986",
   "metadata": {},
   "outputs": [],
   "source": [
    "class Chips():\n",
    "    def __init__(self,total=100):\n",
    "        self.total = total\n",
    "        self.bet = 0\n",
    "        \n",
    "    def win_bet(self):\n",
    "        self.total += self.bet\n",
    "        \n",
    "    def lose_bet(self):\n",
    "        self.total -= self.bet"
   ]
  },
  {
   "cell_type": "code",
   "execution_count": 29,
   "id": "1a63caa0",
   "metadata": {},
   "outputs": [],
   "source": [
    "#  this method is use for betting chips\n",
    "def take_bet(chips):\n",
    "    \n",
    "    while True:\n",
    "        \n",
    "        try:\n",
    "            chips.bet = int(input(\"How many chips would you like to bet ? : \"))\n",
    "        \n",
    "        except ValueError:\n",
    "            \n",
    "            print(\"Please provide intiger value\")\n",
    "            \n",
    "        else:\n",
    "            if chips.bet > chips.total:\n",
    "                print(f\"You Don't have that much Chips. You only have {chips.total} \")\n",
    "            else:\n",
    "                break"
   ]
  },
  {
   "cell_type": "code",
   "execution_count": 30,
   "id": "a82fb058",
   "metadata": {},
   "outputs": [],
   "source": [
    "def hit(deck,hand):\n",
    "    \n",
    "    hand.add_card(deck.deal())\n",
    "    hand.adjust_for_ace()"
   ]
  },
  {
   "cell_type": "code",
   "execution_count": 31,
   "id": "1c460690",
   "metadata": {},
   "outputs": [],
   "source": [
    "def hit_or_stand(deck,hand):\n",
    "    \n",
    "    global playing # to control upcomming while loop \n",
    "    \n",
    "    while True:\n",
    "        \n",
    "        x = input(\"Would you like to hit or stand ?\\nPlease type 'h' of 's': \")\n",
    "    \n",
    "        if x[0].lower() == 'h':\n",
    "        \n",
    "            hit(deck,hand)\n",
    "        \n",
    "        elif x[0].lower() == 's':\n",
    "            print(\"Player's stand! Dealer is playing...\")\n",
    "            playing = False\n",
    "        \n",
    "        else:\n",
    "            # if they didn't provide any thing or the could call wrong e.g 'hh', \"HH\", \"Hit\"\n",
    "            print(\"Sorry Plase try again.\")\n",
    "            continue\n",
    "        break"
   ]
  },
  {
   "cell_type": "code",
   "execution_count": 32,
   "id": "1d05e1a6",
   "metadata": {},
   "outputs": [
    {
     "name": "stdout",
     "output_type": "stream",
     "text": [
      "1\n",
      "2\n",
      "3\n",
      "4\n",
      "5\n"
     ]
    }
   ],
   "source": [
    "items = [1,2,3,4,5]\n",
    "for i in items:\n",
    "    print(i)"
   ]
  },
  {
   "cell_type": "code",
   "execution_count": 33,
   "id": "ed3f156f",
   "metadata": {},
   "outputs": [],
   "source": [
    "def show_some(player,dealer):\n",
    "    \n",
    "    # show_some cards of the dealer's\n",
    "    print(\"Dealer's Hand: \")\n",
    "    print(\"<Hidden cards>\")\n",
    "    print(dealer.cards[1])\n",
    "    \n",
    "    # show_all cards of the player's\n",
    "    print(\"\\nPlayers Hand: \")\n",
    "    for card in player.cards:\n",
    "        print(card)\n",
    "    \n",
    "def show_all(player,dealer):\n",
    "    \n",
    "    # show_all cards of the dealer's\n",
    "    print(\"\\nDealer's Hand: \")\n",
    "    for card in player.cards:\n",
    "        print(card)\n",
    "    print(f\"Value of Dealer's hand is: {dealer.value}\")\n",
    "    \n",
    "    # show_all cards of the player's\n",
    "    print(\"\\nPlayers Hand: \")\n",
    "    for card in player.cards:\n",
    "        print(card)\n",
    "    print(f\"Value of player's hand is: {player.value}\")"
   ]
  },
  {
   "cell_type": "code",
   "execution_count": 34,
   "id": "b502ab13",
   "metadata": {},
   "outputs": [],
   "source": [
    "def player_bust(player,dealer,chips):\n",
    "    print(\"__Player Bust__\")\n",
    "    chips.lose_bet()\n",
    "    \n",
    "def player_wins(player,dealer,chips):\n",
    "    print(\"__Player wins__\")\n",
    "    chips.win_bet()\n",
    "    \n",
    "    \n",
    "def dealer_bust(player,dealer,chips):\n",
    "    print(\"__Dealer Bust__\")\n",
    "    chips.win_bet()\n",
    "    \n",
    "def dealer_wins(player,dealer,chips):\n",
    "    print(\"__Dealer Wins__\")\n",
    "    chips.lose_bet()\n",
    "    \n",
    "def push(player,dealer):\n",
    "    print(\"Game Tie\") "
   ]
  },
  {
   "cell_type": "code",
   "execution_count": 35,
   "id": "97481b43",
   "metadata": {},
   "outputs": [
    {
     "name": "stdout",
     "output_type": "stream",
     "text": [
      "Wlcome To The BlackJackGame\n",
      "How many chips would you like to bet ? : 20\n",
      "Dealer's Hand: \n",
      "<Hidden cards>\n",
      "Nine of Spades\n",
      "\n",
      "Players Hand: \n",
      "Two of Hearts\n",
      "Jack of Hearts\n",
      "Would you like to hit or stand ?\n",
      "Please type 'h' of 's': h\n",
      "Dealer's Hand: \n",
      "<Hidden cards>\n",
      "Nine of Spades\n",
      "\n",
      "Players Hand: \n",
      "Two of Hearts\n",
      "Jack of Hearts\n",
      "Queen of Diamonds\n",
      "__Player Bust__\n",
      "\n",
      " Player stands at chips\n",
      "Do you want to play Again ? y/n : n\n",
      "Thank You For Playing!\n"
     ]
    }
   ],
   "source": [
    "while True:\n",
    "    # Print an opening statement\n",
    "    print(\"Wlcome To The BlackJackGame\")\n",
    "\n",
    "    # Create & shuffle the deck, deal two cards to each player\n",
    "    deck = Deck()\n",
    "    deck.shuffle()\n",
    "    \n",
    "    player_hand = Hand()\n",
    "    player_hand.add_card(deck.deal())\n",
    "    player_hand.add_card(deck.deal())\n",
    "    \n",
    "    dealer_hand = Hand()\n",
    "    dealer_hand.add_card(deck.deal())\n",
    "    dealer_hand.add_card(deck.deal())\n",
    "    \n",
    "    \n",
    "    # Set up the Player's chips\n",
    "    player_chips = Chips()\n",
    "    \n",
    "    # Prompt the Player for their bet\n",
    "    take_bet(player_chips)\n",
    "    \n",
    "    # Show cards (but keep one dealer card hidden)\n",
    "    show_some(player_hand,dealer_hand)\n",
    "    \n",
    "    while playing:  # recall this variable from our hit_or_stand function\n",
    "        \n",
    "        # Prompt for Player to Hit or Stand\n",
    "        hit_or_stand(deck,player_hand)\n",
    "        \n",
    "        # Show cards (but keep one dealer card hidden)\n",
    "        show_some(player_hand,dealer_hand)\n",
    "        \n",
    "        # If player's hand exceeds 21, run player_busts() and break out of loop\n",
    "        if player_hand.value > 21:\n",
    "            player_bust(player_hand,dealer_hand,player_chips)\n",
    "            break\n",
    "\n",
    "    # If Player hasn't busted, play Dealer's hand until Dealer reaches 17\n",
    "    if player_hand.value <= 21:\n",
    "        \n",
    "        while player_hand.value < dealer_hand.value:\n",
    "            hit(deck,dealer_hand)\n",
    "            \n",
    "    \n",
    "        # Show all cards\n",
    "        show_all(player_hand,dealer_hand)\n",
    "    \n",
    "        # Run different winning scenarios\n",
    "        if dealer_hand.value > 21:\n",
    "            dealer_bust(player_hand,dealer_hand,player_chips)\n",
    "            \n",
    "        elif dealer_hand.value > player_hand.value:\n",
    "            dealer_wins(player_hand,dealer_hand,player_chips)\n",
    "            \n",
    "        elif dealer_hand.value < player_hand.value:\n",
    "            player_wins(player_hand,dealer_hand,player_chips)\n",
    "        \n",
    "        else:\n",
    "            push(player_hand,dealer_hand)\n",
    "            \n",
    "    \n",
    "    # Inform Player of their chips total \n",
    "    print(\"\\n Player stands at chips\".format(player_chips.total))\n",
    "    \n",
    "    # Ask to play again\n",
    "    x = input(\"Do you want to play Again ? y/n : \")\n",
    "    \n",
    "    if x[0].lower() == 'y':\n",
    "        playing = True\n",
    "    else:\n",
    "        print(\"Thank You For Playing!\")\n",
    "        break"
   ]
  },
  {
   "cell_type": "code",
   "execution_count": null,
   "id": "d5db375d",
   "metadata": {},
   "outputs": [],
   "source": []
  },
  {
   "cell_type": "code",
   "execution_count": null,
   "id": "01b5b047",
   "metadata": {},
   "outputs": [],
   "source": []
  },
  {
   "cell_type": "code",
   "execution_count": null,
   "id": "9c7fb326",
   "metadata": {},
   "outputs": [],
   "source": []
  },
  {
   "cell_type": "code",
   "execution_count": null,
   "id": "2b7e131e",
   "metadata": {},
   "outputs": [],
   "source": []
  },
  {
   "cell_type": "code",
   "execution_count": null,
   "id": "0c794bc7",
   "metadata": {},
   "outputs": [],
   "source": []
  },
  {
   "cell_type": "code",
   "execution_count": null,
   "id": "e7b36a29",
   "metadata": {},
   "outputs": [],
   "source": []
  },
  {
   "cell_type": "code",
   "execution_count": null,
   "id": "7af0d294",
   "metadata": {},
   "outputs": [],
   "source": []
  },
  {
   "cell_type": "code",
   "execution_count": null,
   "id": "e631eea2",
   "metadata": {},
   "outputs": [],
   "source": []
  },
  {
   "cell_type": "code",
   "execution_count": null,
   "id": "76f4be19",
   "metadata": {},
   "outputs": [],
   "source": []
  },
  {
   "cell_type": "code",
   "execution_count": null,
   "id": "266fdc6f",
   "metadata": {},
   "outputs": [],
   "source": []
  }
 ],
 "metadata": {
  "kernelspec": {
   "display_name": "Python 3 (ipykernel)",
   "language": "python",
   "name": "python3"
  },
  "language_info": {
   "codemirror_mode": {
    "name": "ipython",
    "version": 3
   },
   "file_extension": ".py",
   "mimetype": "text/x-python",
   "name": "python",
   "nbconvert_exporter": "python",
   "pygments_lexer": "ipython3",
   "version": "3.9.12"
  }
 },
 "nbformat": 4,
 "nbformat_minor": 5
}
