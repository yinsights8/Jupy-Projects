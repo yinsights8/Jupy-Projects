{
 "cells": [
  {
   "cell_type": "code",
   "execution_count": 2,
   "id": "243a669e",
   "metadata": {},
   "outputs": [
    {
     "name": "stdout",
     "output_type": "stream",
     "text": [
      ".........Who will pay the BILL.........\n",
      "\n",
      "Give me everybody's names, separated by a comma.: yash, niranjan, priti\n",
      "1\n",
      " niranjan\n"
     ]
    }
   ],
   "source": [
    "import random\n",
    "\n",
    "print(\".........Who will pay the BILL.........\\n\")\n",
    "\n",
    "name_string = input(\"Give me everybody's names, separated by a comma.: \")\n",
    "\n",
    "names = name_string.split(\",\")\n",
    "\n",
    "#random.shuffle(names)\n",
    "\n",
    "#person_pay = random.choice(names)\n",
    "\n",
    "total_people = len(names)\n",
    "\n",
    "random_person = random.randint(0, total_people - 1)\n",
    "\n",
    "person_pay  = names[random_person]\n",
    "\n",
    "print(random_person)\n",
    "print(person_pay)"
   ]
  },
  {
   "cell_type": "code",
   "execution_count": null,
   "id": "fd046b16",
   "metadata": {},
   "outputs": [],
   "source": []
  },
  {
   "cell_type": "code",
   "execution_count": null,
   "id": "11412856",
   "metadata": {},
   "outputs": [],
   "source": []
  }
 ],
 "metadata": {
  "kernelspec": {
   "display_name": "Python 3 (ipykernel)",
   "language": "python",
   "name": "python3"
  },
  "language_info": {
   "codemirror_mode": {
    "name": "ipython",
    "version": 3
   },
   "file_extension": ".py",
   "mimetype": "text/x-python",
   "name": "python",
   "nbconvert_exporter": "python",
   "pygments_lexer": "ipython3",
   "version": "3.9.12"
  }
 },
 "nbformat": 4,
 "nbformat_minor": 5
}
